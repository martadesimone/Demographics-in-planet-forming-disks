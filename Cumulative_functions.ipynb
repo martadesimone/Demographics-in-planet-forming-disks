{
 "cells": [
  {
   "cell_type": "code",
   "execution_count": 1,
   "metadata": {},
   "outputs": [],
   "source": [
    "import numpy as np\n",
    "import matplotlib\n",
    "import matplotlib.pyplot as plt\n",
    "import linmix\n",
    "from astropy.table import Table, Column\n",
    "import astropy.io.ascii as ascii\n",
    "#import corner\n",
    "from lifelines import KaplanMeierFitter\n",
    "from matplotlib import rc\n",
    "from matplotlib.ticker import MultipleLocator\n",
    "\n",
    "rc('font', **{'family': 'serif', 'serif': ['Computer Modern']})\n",
    "rc('text', usetex=True)\n",
    "\n",
    "#%matplotlib inline\n",
    "%matplotlib qt5"
   ]
  },
  {
   "cell_type": "code",
   "execution_count": 2,
   "metadata": {},
   "outputs": [],
   "source": [
    "##############################\n",
    "##   Read TABLEs   ####\n",
    "Tau_Tab=Table.read(\"Taurus_Tab_Full.fit\")      \n",
    "Lup_Tab_orig=Table.read('Lupus_Tab_Full.fit')     \n",
    "ChaI_Tab=Table.read('ChaI_Tab_Full.fit')\n",
    "UppSco_Tab=Table.read('UppSco_Tab_Full.fit')\n",
    "\n",
    "#remove Sz82, it gives problem in Md and Mg...\n",
    "\n",
    "Lup_Tab=Lup_Tab_orig.copy()\n",
    "Lup_Tab.remove_row(14)\n",
    "\n",
    "####  DUST #####\n",
    "delta_Md_Tau=Tau_Tab['lMd']!='<'               \n",
    "delta_Md_Lup=Lup_Tab['l_Md']!='<'\n",
    "delta_Md_ChaI=ChaI_Tab['l_Md']!='<'\n",
    "delta_Md_UppSco=UppSco_Tab['lMd']!='<' \n",
    "delta_Md_LupChaI=np.concatenate((delta_Md_Lup,delta_Md_ChaI))\n",
    "\n",
    "logMd_Tau=Tau_Tab['LogMd']    # Md in Eart Mass\n",
    "logMd_Lup=np.log10(Lup_Tab['Md'])\n",
    "logMd_ChaI=np.log10(ChaI_Tab['Md'])   \n",
    "logMd_UppSco=np.log10(UppSco_Tab['Md'])\n",
    "\n",
    "####  GAS #####\n",
    "delta_Mg_Lup=Lup_Tab['l_Mg']!='<'      #observed sources for Mgas\n",
    "delta_Mg_ChaI=ChaI_Tab['l_Mg']!='<'      #observed sources for Mgas\n",
    "logMg_Lup=Lup_Tab['logMg']\n",
    "logMg_ChaI=ChaI_Tab['logMg']\n",
    "\n",
    "####  GAS TO DUST RATIO #####\n",
    "ratioLup=10**Lup_Tab['logMg']/(Lup_Tab['Md']/332946)    #332946 due to the conversion Mearth-Msol\n",
    "ratioChaI=10**ChaI_Tab['logMg']/(ChaI_Tab['Md']/332946)\n",
    "ratioLupChaI=np.concatenate((ratioLup,ratioChaI))\n",
    "logRatioLupChaI=np.log10(ratioLupChaI)\n",
    "logRatio_Lup=np.log10(ratioLup)\n",
    "logRatio_ChaI=np.log10(ratioChaI)"
   ]
  },
  {
   "cell_type": "code",
   "execution_count": 46,
   "metadata": {},
   "outputs": [],
   "source": [
    "#  choose the analysis to perform: dust mass or gas mass?    #\n",
    "#n='dust'\n",
    "#n='gas'\n",
    "n='ratio'"
   ]
  },
  {
   "cell_type": "code",
   "execution_count": 70,
   "metadata": {},
   "outputs": [
    {
     "name": "stdout",
     "output_type": "stream",
     "text": [
      "median_Lupus=  kmf    1.872226\n",
      "dtype: float64\n",
      "median_ChaI=  kmf    0.90125\n",
      "dtype: float64\n"
     ]
    }
   ],
   "source": [
    "## USE the KaplanMeierFitter to create the cumulative functions\n",
    "\n",
    "#### DUST ######\n",
    "if n=='dust':\n",
    "    survey=['Taurus','Lupus','ChamI','Upper Scorpius']\n",
    "    color=['magenta','blue','orange','green']\n",
    "    C=[delta_Md_Tau,delta_Md_Lup,delta_Md_ChaI,delta_Md_UppSco] #NOT upper limits on DUST MASS\n",
    "    Mass=[logMd_Tau,logMd_Lup,logMd_ChaI, logMd_UppSco]  #log DUST MASS\n",
    "    mass_label='M$_d$ [M$_\\oplus$]'\n",
    "    cumul_label='f($>$M$_d$)'\n",
    "    \n",
    "#### GAS ###\n",
    "if n=='gas':\n",
    "    survey=['Lupus','ChaI']\n",
    "    color=['blue','orange']\n",
    "    C=[delta_Mg_Lup,delta_Mg_ChaI]\n",
    "    Mass=[logMg_Lup,logMg_ChaI]\n",
    "    mass_label='M$_g$ [M$_\\odot$]'\n",
    "    cumul_label='f($>$M$_g$)'\n",
    "    \n",
    "if n=='ratio':\n",
    "    survey=('Lupus','ChaI')\n",
    "    color=('blue','orange')\n",
    "    C=[delta_Mg_Lup[delta_Md_Lup],delta_Mg_ChaI[delta_Md_ChaI]]\n",
    "    Ratio=[ratioLup[delta_Md_Lup],ratioChaI[delta_Md_ChaI]]\n",
    "    Mass=[]\n",
    "    for i,val in enumerate(Ratio):\n",
    "        Mass_tmp=np.log10(val)\n",
    "        Mass.append(Mass_tmp)\n",
    "    mass_label='M$_g$/M$_d$'\n",
    "    cumul_label='f($>$M$_g$/M$_d$)'\n",
    "    \n",
    "    \n",
    "len_surveys=len(survey)\n",
    "_kmf=[]\n",
    "s=[] #survival fuction --> cumulative\n",
    "t=[] #timeline --> MDUST\n",
    "Dn=[] #lower value range confidence level\n",
    "Dp=[] #upper value range confidence level\n",
    "median=[]\n",
    "\n",
    "for j in range(len_surveys):\n",
    "    kmf=KaplanMeierFitter()\n",
    "    kmf_tmp=kmf.fit(10**Mass[j],event_observed=C[j],left_censorship=True,label='kmf',alpha=0.5)\n",
    "    #survival fuction\n",
    "    _kmf.append(kmf_tmp)\n",
    "    s_tmp=1-_kmf[j].cumulative_density_.values.ravel()\n",
    "    s.append(s_tmp)\n",
    "    #timeline\n",
    "    t_tmp=_kmf[j].timeline\n",
    "    t.append(t_tmp)\n",
    "    #lower value range confidence level\n",
    "    Dp_tmp=_kmf[j].confidence_interval_['kmf_upper_0.50']-(1-s[j])\n",
    "    Dp.append(Dp_tmp)\n",
    "    Dn_tmp=(1-s[j])-_kmf[j].confidence_interval_['kmf_lower_0.50']\n",
    "    Dn.append(Dn_tmp)\n",
    "\n",
    "    median_tmp=(_kmf[j].cumulative_density_<= 0.5).idxmin(0)\n",
    "    median.append(median_tmp)\n",
    "    \n",
    "for i,val in enumerate(median):\n",
    "    print 'median_'+survey[i]+'= ',val"
   ]
  },
  {
   "cell_type": "code",
   "execution_count": 71,
   "metadata": {},
   "outputs": [
    {
     "data": {
      "image/png": "[encoded data removed]",
      "text/plain": [
       "<Figure size 432x288 with 1 Axes>"
      ]
     },
     "metadata": {
      "needs_background": "light"
     },
     "output_type": "display_data"
    }
   ],
   "source": [
    "### PLOT Cumulative functions for DUST MASS\n",
    "\n",
    "ax = plt.subplot(111)\n",
    "\n",
    "for i in range(len_surveys):\n",
    "    ax.errorbar(t[i],s[i],yerr=[Dn[i],Dp[i]],drawstyle='steps-post',linewidth=3,\n",
    "                color=color[i],label=survey[i],elinewidth=1)\n",
    "#ax.errorbar(t[0],kmf_Tau.cumulative_density_.values.ravel(),\n",
    "#            yerr=[Dn[0],Dp[0]],drawstyle='steps-post',linewidth=3,elinewidth=1)\n",
    "    \n",
    "plt.legend()\n",
    "plt.xscale('log')\n",
    "plt.ylim(0, 1)\n",
    "plt.minorticks_on()\n",
    "ax.set_ylabel(cumul_label, fontsize=24)\n",
    "ax.set_xlabel(mass_label,fontsize=24)   # Md is in Earth masses\n",
    "ax.tick_params(axis='both', which='both', labelsize=18, direction='in')\n",
    "plt.show()\n"
   ]
  },
  {
   "cell_type": "code",
   "execution_count": null,
   "metadata": {},
   "outputs": [],
   "source": []
  }
 ],
 "metadata": {
  "kernelspec": {
   "display_name": "Python [conda env:python27]",
   "language": "python",
   "name": "conda-env-python27-py"
  },
  "language_info": {
   "codemirror_mode": {
    "name": "ipython",
    "version": 2
   },
   "file_extension": ".py",
   "mimetype": "text/x-python",
   "name": "python",
   "nbconvert_exporter": "python",
   "pygments_lexer": "ipython2",
   "version": "2.7.16"
  }
 },
 "nbformat": 4,
 "nbformat_minor": 4
}
